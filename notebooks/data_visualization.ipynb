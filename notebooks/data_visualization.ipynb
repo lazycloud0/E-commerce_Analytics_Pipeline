{
 "cells": [
  {
   "cell_type": "markdown",
   "metadata": {},
   "source": [
    "# Data Visualization Notebook\n",
    "\n",
    "This notebook contains data visualization code for the e-commerce sales data."
   ]
  }
 ],
 "metadata": {
  "language_info": {
   "name": "python"
  }
 },
 "nbformat": 4,
 "nbformat_minor": 2
}
